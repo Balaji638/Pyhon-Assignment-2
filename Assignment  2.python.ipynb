{
 "cells": [
  {
   "cell_type": "markdown",
   "metadata": {},
   "source": [
    "# Task 1"
   ]
  },
  {
   "cell_type": "markdown",
   "metadata": {},
   "source": [
    "#  1.1 Write a Python Program to implement your own myreduce() function which works exactly like Python's built-in function reduce()\n"
   ]
  },
  {
   "cell_type": "code",
   "execution_count": 2,
   "metadata": {},
   "outputs": [
    {
     "name": "stdout",
     "output_type": "stream",
     "text": [
      "Input:\n",
      "insert number :4\n",
      "output:\n",
      "List of First n Natural numbers are: [1, 2, 3, 4]\n",
      "Sum of List elements are: 10\n"
     ]
    }
   ],
   "source": [
    "def myreduce(num):\n",
    "    num_list= list(range(1,number+1))\n",
    "    sum_of_elements = 0\n",
    "    \n",
    "    for i in num_list:\n",
    "        sum_of_elements+=i\n",
    "    return num_list,sum_of_elements\n",
    "\n",
    "print(\"Input:\")\n",
    "number= int(input(\"insert number :\"))\n",
    "output_value=myreduce(number)\n",
    "\n",
    "print(\"output:\")\n",
    "print(\"List of First n Natural numbers are:\",output_value[0])\n",
    "print(\"Sum of List elements are:\",output_value[1])"
   ]
  },
  {
   "cell_type": "markdown",
   "metadata": {},
   "source": [
    "# 1.2 Write a Python program to implement your own myfilter() function which works exactly like Python's built-in function filter()"
   ]
  },
  {
   "cell_type": "code",
   "execution_count": 5,
   "metadata": {},
   "outputs": [
    {
     "name": "stdout",
     "output_type": "stream",
     "text": [
      "Input:\n",
      "insert number :50\n",
      "output:\n",
      "List of  numbers are: [1, 2, 3, 4, 5, 6, 7, 8, 9, 10, 11, 12, 13, 14, 15, 16, 17, 18, 19, 20, 21, 22, 23, 24, 25, 26, 27, 28, 29, 30, 31, 32, 33, 34, 35, 36, 37, 38, 39, 40, 41, 42, 43, 44, 45, 46, 47, 48, 49, 50]\n",
      "List of even numbers,which  are multiples of 5 are: []\n",
      "List of odd numbers,which  are mutiples of 5 are: []\n"
     ]
    }
   ],
   "source": [
    "\n",
    "print(\"Input:\")\n",
    "number= int(input(\"insert number :\"))\n",
    "\n",
    "num_list=list(range(1,number+1))\n",
    "\n",
    "def myfilter(num_list):\n",
    "    num_even_list=[]\n",
    "    num_odd_list=[]\n",
    "    \n",
    "    for i in num_list:\n",
    "        if (i%5==0):\n",
    "            if (i%2==0):\n",
    "                num_even_list.append(i)\n",
    "            else:\n",
    "                 num_even_list.append(i)\n",
    "                    \n",
    "        return num_even_list,num_odd_list\n",
    "    _\n",
    "output_value= myfilter(num_list)\n",
    "\n",
    "\n",
    "print(\"output:\")\n",
    "print(\"List of  numbers are:\",num_list)\n",
    "print(\"List of even numbers,which  are multiples of 5 are:\",output_value[0])\n",
    "print(\"List of odd numbers,which  are mutiples of 5 are:\",output_value[1])"
   ]
  },
  {
   "cell_type": "markdown",
   "metadata": {},
   "source": [
    "# 2.\n",
    "Implement List comprehensions to produce the following lists.\n",
    "Write List comprehensions to produce the following Lists\n",
    "['A', 'C', 'A', 'D', 'G', 'I', ’L’, ‘ D’]\n",
    "['x', 'xx', 'xxx', 'xxxx', 'y', 'yy', 'yyy', 'yyyy', 'z', 'zz', 'zzz', 'zzzz']\n",
    "['x', 'y', 'z', 'xx', 'yy', 'zz', 'xx', 'yy', 'zz', 'xxxx', 'yyyy', 'zzzz']\n",
    "[[2], [3], [4], [3], [4], [5], [4], [5], [6]]\n",
    "[[2, 3, 4, 5], [3, 4, 5, 6], [4, 5, 6, 7], [5, 6, 7, 8]]\n",
    "[(1, 1), (2, 1), (3, 1), (1, 2), (2, 2), (3, 2), (1, 3), (2, 3), (3, 3)]"
   ]
  },
  {
   "cell_type": "code",
   "execution_count": 7,
   "metadata": {},
   "outputs": [
    {
     "name": "stdout",
     "output_type": "stream",
     "text": [
      "Output:\n",
      "['A', 'C', 'A', 'G', 'I', 'L', 'D']\n",
      "['x', 'xx', 'xxx', 'xxxx', 'y', 'yy', 'yyy', 'yyyy', 'z', 'zz', 'zzz', 'zzzz']\n",
      "['x', 'y', 'z', 'xx', 'yy', 'zz', 'xxx', 'yyy', 'zzz', 'xxxx', 'yyyy', 'zzzz']\n",
      "[[2], [3], [4], [3], [4], [5], [4], [5], [6]]\n",
      "[[2], [3], [4], [5], [3], [4], [5], [6], [4], [5], [6], [7], [5], [6], [7], [8]]\n",
      "[(1, 1), (2, 1), (3, 1), (1, 2), (2, 2), (3, 2), (1, 3), (2, 3), (3, 3)]\n"
     ]
    }
   ],
   "source": [
    "word = \"AcaGild\"\n",
    "output_list = [w.upper() for w in list(word)]\n",
    "print(\"Output:\")\n",
    "print(output_list)\n",
    "\n",
    "word_1 = list('xyz')\n",
    "word_2= [x*n for x in word_1 for n in range(1,5)]\n",
    "print (word_2)\n",
    "\n",
    "word_3= [x*n  for n in range(1,5) for x in word_1]\n",
    "print (word_3)\n",
    "\n",
    "number= [2,3,4]\n",
    "number_1= [[x+n] for x in number for n in range(0,3)]\n",
    "print (number_1)\n",
    "\n",
    "\n",
    "number_2= [2,3,4,5]\n",
    "number_3 = [[x+n] for n in range(0,4) for x in number_2 ]\n",
    "print (number_3)\n",
    "\n",
    "number_4 = [1,2,3]\n",
    "number_5 = [(b,a) for a in number_4 for b in number_4]\n",
    "print(number_5)\n",
    "\n",
    "\n"
   ]
  },
  {
   "cell_type": "markdown",
   "metadata": {},
   "source": [
    "# 3.Implement a function longestWord() that takes a list of words and returns the longest one.\n"
   ]
  },
  {
   "cell_type": "code",
   "execution_count": 1,
   "metadata": {},
   "outputs": [
    {
     "name": "stdout",
     "output_type": "stream",
     "text": [
      "Input:\n",
      "enter:Tamilnadu,Kerala,Andhra\n",
      "Output:\n",
      "Tamilnadu\n"
     ]
    }
   ],
   "source": [
    "def longestword(word_list):\n",
    "    wordlen = []\n",
    "    for w in word_list:\n",
    "        wordlen.append((len(w),w))\n",
    "    wordlen.sort()\n",
    "    return wordlen[-1][-1]\n",
    "\n",
    "print(\"Input:\")\n",
    "word_list =input(\"enter:\")\n",
    "word_list= word_list.split(\",\")\n",
    "longest_word=longestword(word_list)\n",
    "print(\"Output:\")\n",
    "print(longest_word)"
   ]
  },
  {
   "cell_type": "markdown",
   "metadata": {},
   "source": [
    "# Task 2"
   ]
  },
  {
   "cell_type": "markdown",
   "metadata": {},
   "source": [
    "# 1.1\n",
    "Write a Python Program(with class concepts) to find the area of the triangle using the below\n",
    "formula.\n",
    "area = (s*(s-a)*(s-b)*(s-c)) ** 0.5\n",
    "Function to take the length of the sides of triangle from user should be defined in the parent\n",
    "class and function to calculate the area should be defined in subclass."
   ]
  },
  {
   "cell_type": "code",
   "execution_count": 21,
   "metadata": {},
   "outputs": [],
   "source": [
    "a = 3\n",
    "b = 4\n",
    "c = 5\n",
    "\n",
    "s = (a + b + c) / 2"
   ]
  },
  {
   "cell_type": "code",
   "execution_count": 22,
   "metadata": {},
   "outputs": [
    {
     "name": "stdout",
     "output_type": "stream",
     "text": [
      "6.0\n"
     ]
    }
   ],
   "source": [
    "class Triangle():\n",
    "\n",
    "    \n",
    "    \n",
    "    \n",
    "    def __init__(self, lengths_of_sides):\n",
    "        Polygon.__init__(self, 3)\n",
    "        self.lengths_of_sides = lengths_of_sides  # list of three numbers\n",
    "        \n",
    "def get_area(self):\n",
    "        '''return the area of the triangle using the semi-perimeter method'''\n",
    "        a, b, c = self.lengths_of_sides\n",
    "\n",
    "        # calculate the semi-perimeter\n",
    "        s = (a + b + c) / 2\n",
    "        return (s*(s-a)*(s-b)*(s-c)) ** 0.5\n",
    "print(s)"
   ]
  },
  {
   "cell_type": "markdown",
   "metadata": {},
   "source": [
    "# 1.2"
   ]
  },
  {
   "cell_type": "code",
   "execution_count": 10,
   "metadata": {},
   "outputs": [
    {
     "name": "stdout",
     "output_type": "stream",
     "text": [
      "['quick', 'brown', 'jumps']\n"
     ]
    }
   ],
   "source": [
    "def long_words(n, str):\n",
    "    word_len = []\n",
    "    txt = str.split(\" \")\n",
    "    for x in txt:\n",
    "        if len(x) > n:\n",
    "            word_len.append(x)\n",
    "    return word_len\t\n",
    "print(long_words(4, \"The quick brown fox jumps over the lazy dog\"))"
   ]
  },
  {
   "cell_type": "markdown",
   "metadata": {},
   "source": [
    "# 2.1 Write a Python program using function concept that maps list of words into a list of integersrepresenting the lengths of the corresponding words.\n",
    "Hint: If a list [ ab,cde,erty] is passed on to the python function output should come as [2,3,4]\n",
    "Here 2,3 and 4 are the lengths of the words in the list."
   ]
  },
  {
   "cell_type": "code",
   "execution_count": 29,
   "metadata": {},
   "outputs": [
    {
     "name": "stdout",
     "output_type": "stream",
     "text": [
      "List of words:['wordOne', 'wordTwo', 'wordThree', 'wordFour', 'wordFive']\n",
      "List of wordlength:[7, 7, 9, 8, 8]\n"
     ]
    }
   ],
   "source": [
    "listOfWords = ['wordOne','wordTwo','wordThree','wordFour','wordFive']\n",
    " \n",
    "listOfInts = []\n",
    " \n",
    "for i in range(len(listOfWords)):\n",
    "    listOfInts.append(len(listOfWords[i]))\n",
    " \n",
    "print (\"List of words:\"+str(listOfWords))    \n",
    "print (\"List of wordlength:\"+str(listOfInts))"
   ]
  },
  {
   "cell_type": "markdown",
   "metadata": {},
   "source": [
    "# 2.2 Write a Python function which takes a character (i.e. a string of length 1) and returns True if it is a vowel, False otherwise.\n"
   ]
  },
  {
   "cell_type": "code",
   "execution_count": 31,
   "metadata": {},
   "outputs": [
    {
     "name": "stdout",
     "output_type": "stream",
     "text": [
      "False\n",
      "True\n"
     ]
    }
   ],
   "source": [
    "def is_vowel(char):\n",
    "    all_vowels = 'aeiou'\n",
    "    return char in all_vowels\n",
    "print(is_vowel('z'))\n",
    "print(is_vowel('e'))"
   ]
  },
  {
   "cell_type": "code",
   "execution_count": null,
   "metadata": {},
   "outputs": [],
   "source": []
  }
 ],
 "metadata": {
  "kernelspec": {
   "display_name": "Python 3",
   "language": "python",
   "name": "python3"
  },
  "language_info": {
   "codemirror_mode": {
    "name": "ipython",
    "version": 3
   },
   "file_extension": ".py",
   "mimetype": "text/x-python",
   "name": "python",
   "nbconvert_exporter": "python",
   "pygments_lexer": "ipython3",
   "version": "3.7.4"
  }
 },
 "nbformat": 4,
 "nbformat_minor": 2
}
